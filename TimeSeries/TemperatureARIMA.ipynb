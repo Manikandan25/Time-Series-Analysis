{
 "cells": [
  {
   "cell_type": "code",
   "execution_count": 8,
   "metadata": {},
   "outputs": [
    {
     "name": "stderr",
     "output_type": "stream",
     "text": [
      "/home/mani/Anaconda1/lib/python3.6/site-packages/statsmodels/compat/pandas.py:56: FutureWarning: The pandas.core.datetools module is deprecated and will be removed in a future version. Please use the pandas.tseries module instead.\n",
      "  from pandas.core import datetools\n"
     ]
    }
   ],
   "source": [
    "# line plot of time series\n",
    "from pandas import Series\n",
    "from matplotlib import pyplot\n",
    "from statsmodels.tsa.arima_model import ARIMA\n",
    "import numpy"
   ]
  },
  {
   "cell_type": "code",
   "execution_count": 3,
   "metadata": {},
   "outputs": [
    {
     "name": "stdout",
     "output_type": "stream",
     "text": [
      "Date\n",
      "1981-01-01    20.7\n",
      "1981-01-02    17.9\n",
      "1981-01-03    18.8\n",
      "1981-01-04    14.6\n",
      "1981-01-05    15.8\n",
      "1981-01-06    15.8\n",
      "1981-01-07    15.8\n",
      "1981-01-08    17.4\n",
      "1981-01-09    21.8\n",
      "1981-01-10    20.0\n",
      "1981-01-11    16.2\n",
      "1981-01-12    13.3\n",
      "1981-01-13    16.7\n",
      "1981-01-14    21.5\n",
      "1981-01-15    25.0\n",
      "1981-01-16    20.7\n",
      "1981-01-17    20.6\n",
      "1981-01-18    24.8\n",
      "1981-01-19    17.7\n",
      "1981-01-20    15.5\n",
      "Name: TempMin, dtype: float64\n"
     ]
    },
    {
     "data": {
      "image/png": "[encoded data removed]",
      "text/plain": [
       "<matplotlib.figure.Figure at 0x7f7377a4d588>"
      ]
     },
     "metadata": {},
     "output_type": "display_data"
    }
   ],
   "source": [
    "\n",
    "# load dataset\n",
    "series = Series.from_csv('daily-minimum-temperatures.csv', header=0)\n",
    "# display first few rows\n",
    "print(series.head(20))\n",
    "# line plot of dataset\n",
    "series.plot()\n",
    "pyplot.show()"
   ]
  },
  {
   "cell_type": "code",
   "execution_count": 4,
   "metadata": {},
   "outputs": [
    {
     "name": "stdout",
     "output_type": "stream",
     "text": [
      "Dataset 3643, Validation 7\n"
     ]
    }
   ],
   "source": [
    "split_point = len(series) - 7\n",
    "dataset, validation = series[0:split_point], series[split_point:]\n",
    "print('Dataset %d, Validation %d' % (len(dataset), len(validation)))\n",
    "dataset.to_csv('dataset.csv')\n",
    "validation.to_csv('validation.csv')"
   ]
  },
  {
   "cell_type": "code",
   "execution_count": 13,
   "metadata": {},
   "outputs": [
    {
     "data": {
      "text/plain": [
       "array([ 20.7,  17.9,  18.8, ...,  13.5,  15.7,  13. ])"
      ]
     },
     "execution_count": 13,
     "metadata": {},
     "output_type": "execute_result"
    }
   ],
   "source": [
    "series.values"
   ]
  },
  {
   "cell_type": "code",
   "execution_count": 14,
   "metadata": {},
   "outputs": [
    {
     "name": "stdout",
     "output_type": "stream",
     "text": [
      "                              ARMA Model Results                              \n",
      "==============================================================================\n",
      "Dep. Variable:                      y   No. Observations:                 3278\n",
      "Model:                     ARMA(7, 1)   Log Likelihood               -8673.748\n",
      "Method:                       css-mle   S.D. of innovations              3.411\n",
      "Date:                Fri, 27 Jul 2018   AIC                          17367.497\n",
      "Time:                        14:20:29   BIC                          17428.447\n",
      "Sample:                             0   HQIC                         17389.322\n",
      "                                                                              \n",
      "==============================================================================\n",
      "                 coef    std err          z      P>|z|      [0.025      0.975]\n",
      "------------------------------------------------------------------------------\n",
      "const          0.0132      0.132      0.099      0.921      -0.246       0.273\n",
      "ar.L1.y        1.1426      0.287      3.977      0.000       0.580       1.706\n",
      "ar.L2.y       -0.4347      0.154     -2.830      0.005      -0.736      -0.134\n",
      "ar.L3.y        0.0961      0.042      2.290      0.022       0.014       0.178\n",
      "ar.L4.y        0.0125      0.029      0.434      0.664      -0.044       0.069\n",
      "ar.L5.y       -0.0101      0.029     -0.343      0.731      -0.068       0.047\n",
      "ar.L6.y        0.0119      0.027      0.448      0.654      -0.040       0.064\n",
      "ar.L7.y        0.0088      0.024      0.368      0.713      -0.038       0.056\n",
      "ma.L1.y       -0.6159      0.287     -2.147      0.032      -1.178      -0.054\n",
      "                                    Roots                                    \n",
      "=============================================================================\n",
      "                 Real           Imaginary           Modulus         Frequency\n",
      "-----------------------------------------------------------------------------\n",
      "AR.1            1.2234           -0.0000j            1.2234           -0.0000\n",
      "AR.2            1.2563           -1.0676j            1.6487           -0.1121\n",
      "AR.3            1.2563           +1.0676j            1.6487            0.1121\n",
      "AR.4            0.0349           -2.0162j            2.0166           -0.2472\n",
      "AR.5            0.0349           +2.0162j            2.0166            0.2472\n",
      "AR.6           -2.5781           -1.3111j            2.8924           -0.4251\n",
      "AR.7           -2.5781           +1.3111j            2.8924            0.4251\n",
      "MA.1            1.6237           +0.0000j            1.6237            0.0000\n",
      "-----------------------------------------------------------------------------\n"
     ]
    }
   ],
   "source": [
    "def difference(dataset, interval=1):\n",
    "\tdiff = list()\n",
    "\tfor i in range(interval, len(dataset)):\n",
    "\t\tvalue = dataset[i] - dataset[i - interval]\n",
    "\t\tdiff.append(value)\n",
    "\treturn numpy.array(diff)\n",
    " \n",
    "# load dataset\n",
    "series = Series.from_csv('dataset.csv', header=None)\n",
    "# seasonal difference\n",
    "X = series.values\n",
    "days_in_year = 365\n",
    "differenced = difference(X, days_in_year)\n",
    "# fit model\n",
    "model = ARIMA(differenced, order=(7,0,1))\n",
    "model_fit = model.fit(disp=0)\n",
    "# print summary of fit model\n",
    "print(model_fit.summary())"
   ]
  },
  {
   "cell_type": "code",
   "execution_count": 15,
   "metadata": {
    "collapsed": true
   },
   "outputs": [],
   "source": [
    "# invert differenced value\n",
    "def inverse_difference(history, yhat, interval=1):\n",
    "\treturn yhat + history[-interval]"
   ]
  },
  {
   "cell_type": "markdown",
   "metadata": {},
   "source": [
    "# Single Day Predict with Forecast()"
   ]
  },
  {
   "cell_type": "code",
   "execution_count": 17,
   "metadata": {},
   "outputs": [
    {
     "name": "stdout",
     "output_type": "stream",
     "text": [
      "Forecast: 14.861651\n"
     ]
    }
   ],
   "source": [
    "forecast = model_fit.forecast()[0]\n",
    "forecast = inverse_difference(X, forecast, days_in_year)\n",
    "print('Forecast: %f' % forecast)"
   ]
  },
  {
   "cell_type": "code",
   "execution_count": 18,
   "metadata": {
    "collapsed": true
   },
   "outputs": [],
   "source": [
    "forecast = model_fit.forecast(steps=7)[0]"
   ]
  },
  {
   "cell_type": "code",
   "execution_count": 19,
   "metadata": {},
   "outputs": [
    {
     "data": {
      "text/plain": [
       "array([-1.53834883, -0.37120599,  0.03134547,  0.0224069 ,  0.02152508,\n",
       "        0.01553882, -0.02527552])"
      ]
     },
     "execution_count": 19,
     "metadata": {},
     "output_type": "execute_result"
    }
   ],
   "source": [
    "forecast"
   ]
  },
  {
   "cell_type": "markdown",
   "metadata": {},
   "source": [
    "# Multi Predict With Forecast()"
   ]
  },
  {
   "cell_type": "code",
   "execution_count": 20,
   "metadata": {},
   "outputs": [
    {
     "name": "stdout",
     "output_type": "stream",
     "text": [
      "Day 1: 14.861651\n",
      "Day 2: 15.628794\n",
      "Day 3: 13.331345\n",
      "Day 4: 11.722407\n",
      "Day 5: 10.421525\n",
      "Day 6: 14.415539\n",
      "Day 7: 12.674724\n"
     ]
    }
   ],
   "source": [
    "history = [x for x in X]\n",
    "day = 1\n",
    "for yhat in forecast:\n",
    "\tinverted = inverse_difference(history, yhat, days_in_year)\n",
    "\tprint('Day %d: %f' % (day, inverted))\n",
    "\thistory.append(inverted)\n",
    "\tday += 1"
   ]
  },
  {
   "cell_type": "markdown",
   "metadata": {},
   "source": [
    "# Single Day Predict with Predict()"
   ]
  },
  {
   "cell_type": "code",
   "execution_count": 23,
   "metadata": {},
   "outputs": [
    {
     "name": "stdout",
     "output_type": "stream",
     "text": [
      "Forecast: 14.861651\n"
     ]
    }
   ],
   "source": [
    "start_index = len(differenced)\n",
    "end_index = len(differenced)\n",
    "forecast = model_fit.predict(start=start_index, end=end_index)\n",
    "# invert the differenced forecast to something usable\n",
    "forecast = inverse_difference(X, forecast, days_in_year)\n",
    "print('Forecast: %f' % forecast)"
   ]
  },
  {
   "cell_type": "markdown",
   "metadata": {},
   "source": [
    "# Multi Day Predict with Predict()"
   ]
  },
  {
   "cell_type": "code",
   "execution_count": 22,
   "metadata": {},
   "outputs": [
    {
     "name": "stdout",
     "output_type": "stream",
     "text": [
      "Day 1: 14.861651\n",
      "Day 2: 15.628794\n",
      "Day 3: 13.331345\n",
      "Day 4: 11.722407\n",
      "Day 5: 10.421525\n",
      "Day 6: 14.415539\n",
      "Day 7: 12.674724\n"
     ]
    }
   ],
   "source": [
    "start_index = len(differenced)\n",
    "end_index = start_index + 6\n",
    "forecast = model_fit.predict(start=start_index, end=end_index)\n",
    "# invert the differenced forecast to something usable\n",
    "history = [x for x in X]\n",
    "day = 1\n",
    "for yhat in forecast:\n",
    "\tinverted = inverse_difference(history, yhat, days_in_year)\n",
    "\tprint('Day %d: %f' % (day, inverted))\n",
    "\thistory.append(inverted)\n",
    "\tstart_index = len(differenced)\n",
    "end_index = start_index + 6\n",
    "forecast = model_fit.predict(start=start_index, end=end_index)\n",
    "# invert the differenced forecast to something usable\n",
    "history = [x for x in X]\n",
    "day = 1\n",
    "for yhat in forecast:\n",
    "\tinverted = inverse_difference(history, yhat, days_in_year)\n",
    "\tprint('Day %d: %f' % (day, inverted))\n",
    "\thistory.append(inverted)\n",
    "\tday += 1day += 1"
   ]
  },
  {
   "cell_type": "code",
   "execution_count": null,
   "metadata": {
    "collapsed": true
   },
   "outputs": [],
   "source": []
  }
 ],
 "metadata": {
  "kernelspec": {
   "display_name": "Python 3",
   "language": "python",
   "name": "python3"
  },
  "language_info": {
   "codemirror_mode": {
    "name": "ipython",
    "version": 3
   },
   "file_extension": ".py",
   "mimetype": "text/x-python",
   "name": "python",
   "nbconvert_exporter": "python",
   "pygments_lexer": "ipython3",
   "version": "3.6.3"
  }
 },
 "nbformat": 4,
 "nbformat_minor": 2
}
